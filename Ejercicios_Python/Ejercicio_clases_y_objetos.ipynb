{
 "cells": [
  {
   "cell_type": "markdown",
   "metadata": {
    "id": "liorA-1ZSU4y"
   },
   "source": [
    "# Ejercicios Clases y Objetos"
   ]
  },
  {
   "cell_type": "markdown",
   "metadata": {
    "id": "5xXUz5l9SU4z"
   },
   "source": [
    "## Ejercicio 1\n",
    "Somos una empresa que tiene varias tiendas de electrodomesticos. Necesitamos un programa para manejar las tiendas, ver las ventas que han tenido, cuántos empleados hay, etc... Para ello vamos a modelizar la tienda en una clase, que tendrá las siguientes características:\n",
    "* Nombre clase: \"Tienda\"\n",
    "* Atributos comunes:\n",
    "    * Tipo: \"Electrodomésticos\"\n",
    "    * Abierta: True\n",
    "* Atributos propios de cada tienda:\n",
    "    * Nombre - String\n",
    "    * Dirección - String\n",
    "    * Número de empleados - int\n",
    "    * Ventas ultimos 3 meses - Lista de 3 numeros\n",
    "* Método para calcular las ventas de todos los meses, que devuelva un numero con todas las ventas.\n",
    "* Método que calcula la media de ventas de los ultimos meses, por empleado\n",
    "* Método que devuelve en un string el nombre de la tienda, junto con su dirección.\n",
    "* Método que obtiene las ventas del último mes.\n",
    "* Método para dar una proyección de las ventas en caso de haber invertido X dinero en marketing en esa tienda. Siendo X el parámetro de entrada. Si X es menor de 1000, las ventas de los ultimos 3 meses hubiesen sido de (1.2 x ventas), si es mayor o igual de 1000, las ventas hubiesen sido de (1.5 x venta). El método reescribe el atributo de ventas en los últimos 3 meses, y además devuelve las ventas con el aumento.\n",
    "\n",
    "Se pide:\n",
    "1. Implementar la clase \"Tienda\"\n",
    "2. Crear tres tiendas con datos inventados\n",
    "3. Comprueba en al menos una de ellas, todo lo implementado en la clase tienda (sus atributos, media de ventas, ventas/empleado...)\n",
    "3. Calcular las ventas del último mes de todas las tiendas. Para ello usa el bucle `for`\n",
    "4. Imprime por pantalla los nombres de las tiendas cuya dirección lleve el string \"Avenida\"\n",
    "5. Seguro que ya has hecho este apartado... Documenta la clase :)"
   ]
  },
  {
   "cell_type": "code",
   "execution_count": 2,
   "metadata": {
    "id": "5cLQcLxfSU4z"
   },
   "outputs": [],
   "source": [
    "# 1. Implementar la clase tienda\n",
    "class Tienda:\n",
    "    # 6. Documentar la clase\n",
    "    \"\"\"Estructura de una tienda\"\"\"\n",
    "    \n",
    "    def __init__(self, nombre: str, direccion: str, numero_empleados: int, ventas_3_ult_meses: [],tipo = \"Electrodomesticos\", abierta = True):\n",
    "        \"\"\"Inicializa un objeto de clase Tienda\"\"\"\n",
    "        self.nombre = nombre\n",
    "        self.direccion = direccion\n",
    "        self.numero_empleados= numero_empleados\n",
    "        if len(ventas_3_ult_meses) == 3:\n",
    "            self.ventas_3_ult_meses = ventas_3_ult_meses\n",
    "        else:\n",
    "            raise ValueError(\"se han pedido las ventas de los tres ultimos meses, sin embargo se han puesto\", len(ventas_3_ult_meses))\n",
    "        self.tipo = tipo\n",
    "        self.abierta = abierta\n",
    "\n",
    "    def sum_ventas(self):\n",
    "        \"\"\"Devuelve un numero con todas las ventas de todos los meses\"\"\"\n",
    "        return sum(self.ventas_3_ult_meses)\n",
    "\n",
    "    def media_ventas_empleado(self):\n",
    "        \"\"\"Calcula la media de los ultimos 3 meses, por empleado\"\"\"\n",
    "        self.media = self.sum_ventas() / len(self.ventas_3_ult_meses) \n",
    "        self.media_empleado = self.sum_ventas() / len(self.ventas_3_ult_meses) / self.numero_empleados\n",
    "        respuesta = \"La media es {} y por empleado nos da {}\" .format(self.media, self.media_empleado)\n",
    "        return respuesta\n",
    "\n",
    "    def mostrar_nombre_direccion(self):\n",
    "        \"\"\"Muestra el nombre de la tienda junto con su direccion\"\"\"\n",
    "        return \"Nuestra tienda es {} y queda en {}\" .format(self.nombre, self.direccion)\n",
    "\n",
    "    def ult_mes_ventas(self):\n",
    "        \"\"\"Obtiene las ventas del ultimo mes\"\"\"\n",
    "        self.ult_mes_venta = self.ventas_3_ult_meses[-1]\n",
    "        return self.ult_mes_venta\n",
    "\n",
    "    def proyeccion_ventas_mrkt(self, x):\n",
    "        \"\"\"Dar una proyección de las ventas en caso de haber invertido X dinero en marketing en esa tienda.\"\"\"\n",
    "        if x < 1000:\n",
    "            for i, venta in enumerate(self.ventas_3_ult_meses):\n",
    "                print(venta)\n",
    "                self.ventas_3_ult_meses[i] = venta * 1.2\n",
    "        elif x >= 1000:\n",
    "            for i, venta in enumerate(self.ventas_3_ult_meses):\n",
    "                print(venta)\n",
    "                self.ventas_3_ult_meses[i] = venta * 1.5\n",
    "        return \"Las ventas actualizadas si hubiesemos invertido en marketing {} son {}\" .format(x, self.ventas_3_ult_meses)"
   ]
  },
  {
   "cell_type": "code",
   "execution_count": 41,
   "metadata": {},
   "outputs": [
    {
     "name": "stdout",
     "output_type": "stream",
     "text": [
      "6000\n",
      "La media es 2000.0 y por empleado nos da 200.0\n",
      "Nuestra tienda es Don Pepe Soluciones y queda en Calle del silencio\n",
      "3000\n",
      "1000\n",
      "2000\n",
      "3000\n",
      "[1500.0, 3000.0, 4500.0]\n",
      "4500.0\n",
      "94500.0\n",
      "994500.0\n",
      "Esta tienda queda en Avenida del invierno y es la tienda Bienvenido Verano\n"
     ]
    }
   ],
   "source": [
    "# 2. Crea tres tiendas con datos inventados\n",
    "tienda_1 = Tienda(\"Don Pepe Soluciones\", \"Calle del silencio\", 10, ventas_3_ult_meses= [1000,2000,3000])\n",
    "tienda_2 = Tienda(\"El mejor en la galaxia SA\", \"Calle de los males\", 5, ventas_3_ult_meses= [65000,30000,90000])\n",
    "tienda_3 = Tienda(\"Bienvenido Verano\", \"Avenida del invierno\", 15, ventas_3_ult_meses= [1500000,3500000,900000])\n",
    "\n",
    "# 3. Comprueba con al menos una de las tiendas todo lo implementado en la clase\n",
    "print(tienda_1.sum_ventas())\n",
    "print(tienda_1.media_ventas_empleado())\n",
    "print(tienda_1.mostrar_nombre_direccion())\n",
    "print(tienda_1.ult_mes_ventas())\n",
    "tienda_1.proyeccion_ventas_mrkt(1000)\n",
    "print(tienda_1.ventas_3_ult_meses)\n",
    "\n",
    "\n",
    "# 4. Calcular las ventas del último mes de todas las tiendas. Para ello usa el bucle for\n",
    "total_ult_mes_tiendas = 0\n",
    "for i in tienda_1.ventas_3_ult_meses, tienda_2.ventas_3_ult_meses, tienda_3.ventas_3_ult_meses:  \n",
    "    total_ult_mes_tiendas = total_ult_mes_tiendas + i[-1]\n",
    "    print(total_ult_mes_tiendas)\n",
    "\n",
    "# 5. Imprime por pantalla los nombres de las tiendas cuya direccion lleve el string \"Avenida\"\n",
    "lista_tiendas = [tienda_1, tienda_2, tienda_3]\n",
    "\n",
    "for key, tienda in enumerate(lista_tiendas):\n",
    "    if \"Avenida\" in lista_tiendas[key].direccion:\n",
    "        print(\"Esta tienda queda en {} y es la tienda {}\" .format(tienda.direccion, lista_tiendas[key].nombre))"
   ]
  },
  {
   "cell_type": "markdown",
   "metadata": {
    "id": "WEBq7EpsSU40"
   },
   "source": [
    "## Ejercicio 2\n",
    "En este ejercicio vamos a implementar una clase *Perro* en Python. La clase tiene las siguientes características:\n",
    "* Cosas que sabemos seguro que tiene un perro\n",
    "    * Tiene 4 patas\n",
    "    * 2 orejas\n",
    "    * 2 ojos\n",
    "    * Una velocidad de 0. Por defecto, el perro está parado\n",
    "* Cuando se inicialice:\n",
    "    * El perro será de una determinada raza\n",
    "    * Por defecto tendrá pelo \"Marrón\", a no ser que se diga lo contrario.\n",
    "    * Por defecto no tendrá dueño, a no ser que se diga lo contrario.\n",
    "    \n",
    "* Dispondrá también de un método llamado andar, que tiene un argumento de entrada (aumento_velocidad). Este valor se le sumará a la velocidad que ya llevaba el perro.\n",
    "* Necesita otro método (parar), donde pondremos la velocidad a 0.\n",
    "* Otro método llamado \"ladrar\", que tendrá un argumento de entrada, y la salida será el siguiente string: \"GUAU!\" + el argumento de entrada.\n",
    "\n",
    "\n",
    "Se pide:\n",
    "* Implementa la clase *Perro*\n",
    "* Crea un objeto de tipo *Perro*, sin dueño\n",
    "* Comprueba que están bien todos sus atributos\n",
    "* Prueba que ande, y comprueba su velocidad\n",
    "* Páralo\n",
    "* Documenta la clase *Perro*"
   ]
  },
  {
   "cell_type": "code",
   "execution_count": 42,
   "metadata": {
    "id": "DpEWvbwGSU40"
   },
   "outputs": [],
   "source": [
    "class Perro:\n",
    "    \"\"\"   Atributos: \n",
    "    patas = 4\n",
    "    orejas = 2\n",
    "    ojos = 2\n",
    "    velocidad = 0\n",
    "    \"\"\"\n",
    "    # Atributos comunes\n",
    "    patas = 4\n",
    "    orejas = 2\n",
    "    ojos = 2\n",
    "    velocidad = 0\n",
    "\n",
    "    # Constructor y atributos propios de cada perro\n",
    "    def __init__(self, raza, color_pelo = \"Marron\", duegno = False):\n",
    "            \"\"\"Inicializa un nuevo objeto de tipo Perro:\n",
    "            Argumentos:\n",
    "                raza = str\n",
    "                color_pelo = por defecto \"Marron\"\n",
    "                duegno = por defecto False \"\"\"\n",
    "            self.raza = raza\n",
    "            self.color_pelo = color_pelo\n",
    "            self.duegno = duegno\n",
    "\n",
    "    # Metodos\n",
    "    # Mostrar atributos del perro\n",
    "    def caracteristicas_perro(self):\n",
    "        \"\"\"\n",
    "        Muestra las caracteristicas del perro\n",
    "        \"\"\"\n",
    "        if self.duegno == False:\n",
    "            self.duegno_string = \"no tiene dueño\"\n",
    "        else:\n",
    "            self.duegno_string = \"tiene dueño\"  \n",
    "        \n",
    "        return print(\"Este perro es un {}, es de color {} y {}. Tiene {} patas, {} orejas, {} ojos y su velocidad es {}\" .format(self.raza, self.color_pelo,\n",
    "                                                                                                                           self.duegno_string, self.patas,\n",
    "                                                                                                                           self.orejas, self.ojos, \n",
    "                                                                                                                           self.velocidad))   \n",
    "    # Andar\n",
    "    def andar(self, aumento_velocidad):\n",
    "        \"\"\"\n",
    "        Pone al perro a andar, sumando el argumento aumento_velocidad a la velocidad actual del perro\n",
    "        \"\"\"\n",
    "        self.velocidad = self.velocidad + aumento_velocidad\n",
    "        return self.velocidad \n",
    "    # Parar\n",
    "    def parar(self):\n",
    "        \"\"\"\n",
    "        Para al perro, pone la velocidad del perro a 0\n",
    "        \"\"\"\n",
    "        self.velocidad = 0\n",
    "        return self.velocidad\n",
    "\n",
    "    # ladrar\n",
    "    def ladrar(self, frase):\n",
    "        \"\"\"\n",
    "        Hace ladrar al perro, seguido de la frase escrita en el argumento\n",
    "        \"\"\"\n",
    "        return print(\"GUAU! \" + frase)\n",
    "        \n"
   ]
  },
  {
   "cell_type": "code",
   "execution_count": 43,
   "metadata": {},
   "outputs": [
    {
     "name": "stdout",
     "output_type": "stream",
     "text": [
      "Este perro es un Rottweiller, es de color negro y no tiene dueño. Tiene 4 patas, 2 orejas, 2 ojos y su velocidad es 0\n",
      "10\n",
      "40\n",
      "0\n",
      "GUAU! tengo miedo\n"
     ]
    }
   ],
   "source": [
    "# Crea lun objeto de tipo Perro, sin dueño\n",
    "rottweiller = Perro(\"Rottweiller\", \"negro\")\n",
    "# Comprueba todos sus atributos\n",
    "rottweiller.caracteristicas_perro()\n",
    "# Prueba que ande, y comprueba su velocidad\n",
    "rottweiller.andar(10)\n",
    "print(rottweiller.velocidad)\n",
    "rottweiller.andar(10)\n",
    "rottweiller.andar(10)\n",
    "rottweiller.andar(10)\n",
    "print(rottweiller.velocidad)\n",
    "# Para al perro\n",
    "rottweiller.parar()\n",
    "print(rottweiller.velocidad)\n",
    "# Haz que ladre\n",
    "rottweiller.ladrar(\"tengo miedo\")"
   ]
  },
  {
   "cell_type": "code",
   "execution_count": null,
   "metadata": {},
   "outputs": [],
   "source": []
  }
 ],
 "metadata": {
  "colab": {
   "provenance": []
  },
  "kernelspec": {
   "display_name": "Python 3 (ipykernel)",
   "language": "python",
   "name": "python3"
  },
  "language_info": {
   "codemirror_mode": {
    "name": "ipython",
    "version": 3
   },
   "file_extension": ".py",
   "mimetype": "text/x-python",
   "name": "python",
   "nbconvert_exporter": "python",
   "pygments_lexer": "ipython3",
   "version": "3.12.6"
  }
 },
 "nbformat": 4,
 "nbformat_minor": 4
}
