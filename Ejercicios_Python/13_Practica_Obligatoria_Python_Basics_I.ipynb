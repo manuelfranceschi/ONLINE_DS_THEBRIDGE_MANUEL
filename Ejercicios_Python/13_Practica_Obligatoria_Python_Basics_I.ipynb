{
 "cells": [
  {
   "cell_type": "markdown",
   "metadata": {
    "id": "59zPhBxXNPxs"
   },
   "source": [
    "## PRACTICA OBLIGATORIA: PYTHON"
   ]
  },
  {
   "cell_type": "markdown",
   "metadata": {
    "id": "mv2kb1GMNPxs"
   },
   "source": [
    "* La práctica obligatoria de esta unidad consiste en dos ejercicios de programación libre a completar.   \n",
    "* Recuerda que debes subirla a tu repositorio personal antes de la sesión en vivo para que puntúe adecuadamente.  \n",
    "* Recuerda también que no es necesario que esté perfecta, sólo es necesario que se vea el esfuerzo.\n",
    "* Esta práctica se resolverá en la sesión en vivo correspondiente y la solución se publicará en el repo del curso."
   ]
  },
  {
   "cell_type": "markdown",
   "metadata": {
    "id": "Kl9JzST2NPxt"
   },
   "source": [
    "![ejercicio.png](./img/ejercicio.png)\n",
    "## PARTE I\n",
    "\n",
    "En este ejercicio debes simular un chatbot al que le haremos pedidos de pizzas.\n",
    "\n",
    "1. El chatbot tiene que saludar con un: \"Buenas tardes, bienvenido al servicio de pedido online, el precio de nuestra pizzas es de 8,95 para la familiar o de 9,90 para la mediana ¿Cuántas pizzas  familiares desea?\"\n",
    "2. El ususario tiene que introducir un número de pizzas en una variable llamada 'pizz_familiar'\n",
    "3. El chatbot debe responder: \"Estupendo, ¿cuántas pizzas medianas desea?\" y guardar el número de pizzas medianas en otra variable 'pizz_mediana'\n",
    "4. Además debe responder del chatbot: \"Estupendo, se están preparando 'pizz' pizzas familiares y 'pizz_mediana' pizzas medianas. Digame su dirección\"\n",
    "5. El ususario tiene que introducir una direccion en formato String en otra variable llamada 'direcc'\n",
    "6. El programa debe calcular el monto total\n",
    "7. Respuesta final del chatbot: \"Le mandaremos las '(número total de pizzas)' pizzas a la dirección 'direcc'. Serán <precio total a pagar en euros>. Muchas gracias por su pedido.\"\n",
    "         \n"
   ]
  },
  {
   "cell_type": "code",
   "execution_count": 16,
   "metadata": {
    "id": "qkKibyt-NPxt"
   },
   "outputs": [
    {
     "name": "stdout",
     "output_type": "stream",
     "text": [
      "Buenas tardes, bienvenido al servicio de pedido online, el precio de nuestra pizzas es de 8,95 para la familiar o\n",
      "de 9,90 para la mediana ¿Cuántas pizzas familiares desea?\n"
     ]
    },
    {
     "name": "stdin",
     "output_type": "stream",
     "text": [
      " 10\n"
     ]
    },
    {
     "name": "stdout",
     "output_type": "stream",
     "text": [
      "Estupendo, ¿cuántas pizzas medianas desea?\n"
     ]
    },
    {
     "name": "stdin",
     "output_type": "stream",
     "text": [
      " 10\n"
     ]
    },
    {
     "name": "stdout",
     "output_type": "stream",
     "text": [
      "Estupendo, se están preparando 10 pizzas familiares y 10 pizzas medianas. Digame su dirección\n"
     ]
    },
    {
     "name": "stdin",
     "output_type": "stream",
     "text": [
      " Calle Ribiera 10\n"
     ]
    },
    {
     "name": "stdout",
     "output_type": "stream",
     "text": [
      "Le mandaremos las 20 pizzas a la dirección Calle Ribiera 10. Serán 188.5, Muchas gracias por su pedido.\n"
     ]
    }
   ],
   "source": [
    "# 1. El chatbot tiene que saludar\n",
    "print(\"\"\"Buenas tardes, bienvenido al servicio de pedido online, el precio de nuestra pizzas es de 8,95 para la familiar o\n",
    "de 9,90 para la mediana ¿Cuántas pizzas familiares desea?\"\"\")\n",
    "# 2. El ususario tiene que introducir un número de pizzas \n",
    "pizz_familiar = int(input())\n",
    "# 3. El chatbot debe responder\n",
    "print(\"Estupendo, ¿cuántas pizzas medianas desea?\")\n",
    "pizz_mediana = int(input())\n",
    "# 4. Además debe responder del chatbot\n",
    "print(\"Estupendo, se están preparando\", pizz_familiar, \"pizzas familiares y\", pizz_mediana,\"pizzas medianas. Digame su dirección\")\n",
    "# 5. El usuario tiene que introducir una direccion en formato String \n",
    "direcc = input()\n",
    "# 6. El programa debe calcular el monto total\n",
    "pizz_total = pizz_familiar + pizz_mediana\n",
    "monto_total = (pizz_familiar * 8.95) + (pizz_mediana * 9.90)\n",
    "# 7. Respuesta final del chatbot:\n",
    "print(\"Le mandaremos las %s pizzas a la dirección %s. Serán %s, Muchas gracias por su pedido.\" %(pizz_total, direcc, monto_total))"
   ]
  },
  {
   "cell_type": "markdown",
   "metadata": {
    "id": "f0oqoGDGNPxt"
   },
   "source": [
    "![ejercicio.png](./img/ejercicio.png)\n",
    "## Parte II\n",
    "\n",
    "Crea un programa que realice las siguientes acciones:\n",
    "\n",
    "1. Solicite al usuario que introduzca 3 números enteros separados por comas (por ejemplo: 1,2,3).\n",
    "2. Convierta esa entrada en una lista de números enteros.\n",
    "3. Utilizando funciones built-in, determine el número máximo, el número mínimo y la suma total de los números introducidos.\n",
    "4. Determine la verdad o falsedad de la siguiente afirmación: \"El número máximo menos el número mínimo es igual a la suma total dividida por 5\".\n",
    "5. Muestre los resultados utilizando print."
   ]
  },
  {
   "cell_type": "code",
   "execution_count": 54,
   "metadata": {
    "id": "rAlpWiQ9NPxt"
   },
   "outputs": [
    {
     "name": "stdout",
     "output_type": "stream",
     "text": [
      "Introduce tres numeros separados por comas. Ejemplo: 1,2,3\n"
     ]
    },
    {
     "name": "stdin",
     "output_type": "stream",
     "text": [
      " 1,3,45\n"
     ]
    },
    {
     "name": "stdout",
     "output_type": "stream",
     "text": [
      "45\n",
      "1\n",
      "49\n",
      "El número máximo menos el número mínimo es igual a la suma total dividida por 5: False\n",
      "El número máximo menos el número mínimo es: 44\n",
      "la suma total dividida por 5 es igual a: 9.8\n"
     ]
    }
   ],
   "source": [
    "# 1. Solicite al usuario que introduzca 3 números enteros separados por comas (por ejemplo: 1,2,3).\n",
    "print(\"Introduce tres numeros separados por comas. Ejemplo: 1,2,3\")\n",
    "list_usuario = input().split(\",\")\n",
    "# 2. Convierta esa entrada en una lista de números enteros.\n",
    "int_list_usuario = [int(s) for s in list_usuario]\n",
    "# 3. Utilizando funciones built-in, determine el número máximo, el número mínimo y la suma total de los números introducidos.\n",
    "max_list = max(int_list_usuario)\n",
    "print(max_list)\n",
    "min_list = min(int_list_usuario)\n",
    "print(min_list)\n",
    "sum_list = sum(int_list_usuario)\n",
    "print(sum_list)\n",
    "# 4. Determine la verdad o falsedad de la siguiente afirmación: \"El número máximo menos el número mínimo es igual a la suma total dividida por 5\".\n",
    "max_sub_min = max(int_list_usuario) - min(int_list_usuario)\n",
    "total_div_five = sum(int_list_usuario) / 5\n",
    "print(\"El número máximo menos el número mínimo es igual a la suma total dividida por 5:\", max_sub_min == total_div_five)\n",
    "# 5. Muestre los resultados utilizando print.\n",
    "print(\"El número máximo menos el número mínimo es:\", max_sub_min)\n",
    "print(\"la suma total dividida por 5 es igual a:\", total_div_five)"
   ]
  },
  {
   "cell_type": "code",
   "execution_count": null,
   "metadata": {},
   "outputs": [],
   "source": []
  }
 ],
 "metadata": {
  "colab": {
   "provenance": []
  },
  "kernelspec": {
   "display_name": "Python 3 (ipykernel)",
   "language": "python",
   "name": "python3"
  },
  "language_info": {
   "codemirror_mode": {
    "name": "ipython",
    "version": 3
   },
   "file_extension": ".py",
   "mimetype": "text/x-python",
   "name": "python",
   "nbconvert_exporter": "python",
   "pygments_lexer": "ipython3",
   "version": "3.12.5"
  }
 },
 "nbformat": 4,
 "nbformat_minor": 4
}
