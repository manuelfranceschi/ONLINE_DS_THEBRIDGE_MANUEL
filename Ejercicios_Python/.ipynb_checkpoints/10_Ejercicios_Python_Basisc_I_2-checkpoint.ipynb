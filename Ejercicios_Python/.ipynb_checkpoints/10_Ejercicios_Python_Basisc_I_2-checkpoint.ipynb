{
 "cells": [
  {
   "cell_type": "markdown",
   "metadata": {
    "id": "_9pTa0PXK9q6"
   },
   "source": [
    "## EJERCICIOS PYTHON BASICO 2:\n",
    "## Tipos y conversión de tipos"
   ]
  },
  {
   "cell_type": "markdown",
   "metadata": {
    "id": "tYmV-veoK9q6"
   },
   "source": [
    "Completa los siguiente ejercicios, la solución a los mismos se publicarán en el repo del curso a lo largo del sprint"
   ]
  },
  {
   "cell_type": "markdown",
   "metadata": {
    "id": "YAdFbIOXK9q7"
   },
   "source": [
    "![ejercicio.png](./img/ejercicio.png)\n",
    "\n",
    "## Ejercicio 1\n",
    "\n",
    "1. Crea dos variables numericas: un `int` y un `float`\n",
    "2. Comprueba sus tipos\n",
    "3. Sumalas en otra nueva\n",
    "4. ¿De qué tipo es la nueva variable?\n",
    "5. Elimina las dos primeras variables creadas"
   ]
  },
  {
   "cell_type": "code",
   "execution_count": 6,
   "metadata": {
    "id": "8QZmuLOsK9q7"
   },
   "outputs": [
    {
     "name": "stdout",
     "output_type": "stream",
     "text": [
      "<class 'int'>\n",
      "<class 'float'>\n",
      "<class 'float'>\n"
     ]
    }
   ],
   "source": [
    "mi_int = 10\n",
    "mi_float = 10.00\n",
    "print(type(mi_int))\n",
    "print(type(mi_float))\n",
    "\n",
    "suma = mi_float + mi_int\n",
    "print(type(suma))\n",
    "\n",
    "del mi_int, mi_float"
   ]
  },
  {
   "cell_type": "markdown",
   "metadata": {
    "id": "f5xfpkpQK9q7"
   },
   "source": [
    "![ejercicio.png](./img/ejercicio.png)\n",
    "\n",
    "## Ejercicio 2\n",
    "Escribe un programa para pasar de grados a radianes. Hay que usar `input`. Recuerda que la conversión se realiza mediante\n",
    "\n",
    "radianes = grados*(pi/180)"
   ]
  },
  {
   "cell_type": "code",
   "execution_count": 24,
   "metadata": {
    "id": "V50TUQMzK9q7"
   },
   "outputs": [
    {
     "name": "stdout",
     "output_type": "stream",
     "text": [
      "Pasame el numero de grados que quieras pasar a gradianes\n"
     ]
    },
    {
     "name": "stdin",
     "output_type": "stream",
     "text": [
      " 10\n"
     ]
    },
    {
     "name": "stdout",
     "output_type": "stream",
     "text": [
      "0.17444444444444446\n"
     ]
    }
   ],
   "source": [
    "print(\"Pasame el numero de grados que quieras pasar a gradianes\")\n",
    "grados = int(input())\n",
    "\n",
    "radianes = grados * (3.14 / 180)\n",
    "print(radianes)"
   ]
  },
  {
   "cell_type": "markdown",
   "metadata": {
    "id": "zX3-p58CK9q7"
   },
   "source": [
    "![ejercicio.png](./img/ejercicio.png)\n",
    "\n",
    "## Ejercicio 3\n",
    "Escribe un programa que calcule el area de un paralelogramo (base x altura). También con `input`"
   ]
  },
  {
   "cell_type": "code",
   "execution_count": 4,
   "metadata": {
    "id": "s2QfNiBAK9q7"
   },
   "outputs": [
    {
     "name": "stdout",
     "output_type": "stream",
     "text": [
      "Este programa calculara el area de un paralelogramo\n"
     ]
    },
    {
     "name": "stdin",
     "output_type": "stream",
     "text": [
      "base: 10\n",
      "altura: 10\n"
     ]
    },
    {
     "name": "stdout",
     "output_type": "stream",
     "text": [
      "100\n"
     ]
    }
   ],
   "source": [
    "print(\"Este programa calculara el area de un paralelogramo\")\n",
    "base = int(input(\"base:\"))\n",
    "altura = int(input(\"altura:\"))\n",
    "paralelogramo = base * altura\n",
    "print(paralelogramo)"
   ]
  },
  {
   "cell_type": "markdown",
   "metadata": {
    "id": "-6TBo_HvK9q8"
   },
   "source": [
    "![ejercicio.png](./img/ejercicio.png)\n",
    "\n",
    "## Ejercicio 4\n",
    "Escribe un programa que calcule el area de un paralelogramo (base x altura). También con `input`. En este caso debe ser capaz de admitir valores reales, con decimales, para base y altura en español. (PISTA: Recuerda que tendrás que hacer uso del método replace)"
   ]
  },
  {
   "cell_type": "code",
   "execution_count": 25,
   "metadata": {
    "id": "uzUIa1JqK9q8"
   },
   "outputs": [
    {
     "name": "stdout",
     "output_type": "stream",
     "text": [
      "Este programa calculara el area de un paralelogramo\n"
     ]
    },
    {
     "name": "stdin",
     "output_type": "stream",
     "text": [
      "base: 10,30\n",
      "base: 30\n"
     ]
    },
    {
     "name": "stdout",
     "output_type": "stream",
     "text": [
      "El paralelogramo es: 309.0\n"
     ]
    }
   ],
   "source": [
    "print(\"Este programa calculara el area de un paralelogramo\")\n",
    "base = input(\"base:\")\n",
    "\n",
    "if \",\" in base:\n",
    "    base = float(base.replace(\",\", \".\"))\n",
    "else:\n",
    "    base = int(base)\n",
    "\n",
    "altura = input(\"base:\")\n",
    "\n",
    "if \",\" in altura:\n",
    "    altura = float(altura.replace(\",\", \".\"))\n",
    "else:\n",
    "    altura = int(altura)\n",
    "\n",
    "paralelogramo = base * altura\n",
    "print(\"El paralelogramo es:\", paralelogramo)"
   ]
  },
  {
   "cell_type": "markdown",
   "metadata": {
    "id": "5zKugi5iK9q8"
   },
   "source": [
    "![ejercicio.png](./img/ejercicio.png)\n",
    "\n",
    "## Ejercicio 5\n",
    "Complete el siguiente código para solicitar al usuario su nombre y su edad. Luego, calcule en qué año nació el usuario y muestre el resultado."
   ]
  },
  {
   "cell_type": "code",
   "execution_count": 16,
   "metadata": {
    "id": "LISfTnRkK9q8"
   },
   "outputs": [
    {
     "name": "stdin",
     "output_type": "stream",
     "text": [
      "¿Cuál es tu nombre?  Manuel\n",
      "¿Cuál es tu edad?  24\n"
     ]
    },
    {
     "name": "stdout",
     "output_type": "stream",
     "text": [
      "Manuel, naciste en el año 2000.\n"
     ]
    }
   ],
   "source": [
    "nombre = input(\"¿Cuál es tu nombre? \")\n",
    "edad = int(input(\"¿Cuál es tu edad? \"))\n",
    "año_actual = 2024  # Puedes cambiarlo según el año en curso\n",
    "año_nacimiento = año_actual - edad\n",
    "\n",
    "print(f\"{nombre}, naciste en el año {año_nacimiento}.\")\n"
   ]
  }
 ],
 "metadata": {
  "colab": {
   "provenance": []
  },
  "kernelspec": {
   "display_name": "Python 3 (ipykernel)",
   "language": "python",
   "name": "python3"
  },
  "language_info": {
   "codemirror_mode": {
    "name": "ipython",
    "version": 3
   },
   "file_extension": ".py",
   "mimetype": "text/x-python",
   "name": "python",
   "nbconvert_exporter": "python",
   "pygments_lexer": "ipython3",
   "version": "3.12.5"
  }
 },
 "nbformat": 4,
 "nbformat_minor": 4
}
