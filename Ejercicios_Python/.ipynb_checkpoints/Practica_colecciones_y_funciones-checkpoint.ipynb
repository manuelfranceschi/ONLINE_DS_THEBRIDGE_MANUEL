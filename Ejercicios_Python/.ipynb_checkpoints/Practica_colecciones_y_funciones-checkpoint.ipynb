{
 "cells": [
  {
   "cell_type": "markdown",
   "metadata": {
    "id": "AyOlWS2nRWxH"
   },
   "source": [
    "## PRACTICA OBLIGATORIA: COLECCIONES Y FUNCIONES"
   ]
  },
  {
   "cell_type": "markdown",
   "metadata": {
    "id": "6UOgb0KVRWxH"
   },
   "source": [
    "* La práctica obligatoria de esta unidad consiste varios ejercicios de programación libre a completar sobre Colecciones y Funciones. Descarga este notebook en tu ordenador y trabaja en local.  \n",
    "* Recuerda que debes subirla a tu repositorio personal antes de la sesión en vivo para que puntúe adecuadamente y puedas participar en dicha sesión.  \n",
    "* Recuerda también que no es necesario que esté perfecta, sólo es necesario que se vea el esfuerzo.\n",
    "* Esta práctica se resolverá en la sesión en vivo correspondiente y la solución se publicará en el repo del curso."
   ]
  },
  {
   "cell_type": "markdown",
   "metadata": {
    "id": "j3yu-tEjRWxH"
   },
   "source": [
    "### Contenidos"
   ]
  },
  {
   "cell_type": "markdown",
   "metadata": {
    "id": "kO-fLH39RWxH"
   },
   "source": [
    "## Ejercicio 1\n",
    "Eleva todos los elementos de la lista al cuadrado\n",
    "> ```ejer_2 = [1,2,3,4,5]```"
   ]
  },
  {
   "cell_type": "code",
   "execution_count": 154,
   "metadata": {
    "id": "ks5l3yi7RWxH"
   },
   "outputs": [
    {
     "name": "stdout",
     "output_type": "stream",
     "text": [
      "[1, 4, 9, 16, 25]\n"
     ]
    }
   ],
   "source": [
    "ejer_2 = [1,2,3,4,5]\n",
    "\n",
    "for i in ejer_2:\n",
    "    ejer_2[i - 1] *= i\n",
    "    \n",
    "print(ejer_2)"
   ]
  },
  {
   "cell_type": "markdown",
   "metadata": {
    "id": "kI_Xr5oFRWxI"
   },
   "source": [
    "## Ejercicio 2\n",
    "Haz un programa que detecte todos los duplicados de un elemento en una lista:\n",
    "* Utiliza una variable duplicado para asignarle el valor del elemento del que queremos encontrar todos sus duplicados.\n",
    "* El programa debe devolver todos los índices de los elementos duplicados.\n",
    "* Aplícalo para encontrar los duplicados de \"un\", \"es\" y \"binario\" de:  \n",
    "\n",
    ">```ejer_3 = [\"Un\", \"árbol\", \"binario\", \"es\", \"una\", \"estructura\", \"de\", \"un\", \"tipo\", \"particular\", \"a\", \"veces\", \"no\", \"es\", \"ni\", \"binario\"]```\n"
   ]
  },
  {
   "cell_type": "code",
   "execution_count": 30,
   "metadata": {
    "id": "cLY9WB7YRWxI"
   },
   "outputs": [
    {
     "name": "stdout",
     "output_type": "stream",
     "text": [
      "se encontro la palabra un en la posicion: 0\n",
      "se encontro la palabra un en la posicion: 7\n",
      "se encontro la palabra es en la posicion: 3\n",
      "se encontro la palabra es en la posicion: 13\n",
      "se encontro la palabra binario en la posicion: 2\n",
      "se encontro la palabra binario en la posicion: 15\n"
     ]
    }
   ],
   "source": [
    "ejer_3 = [\"Un\", \"árbol\", \"binario\", \"es\", \"una\", \"estructura\", \"de\", \"un\", \"tipo\", \"particular\", \"a\", \"veces\", \"no\", \"es\", \"ni\", \"binario\"]\n",
    "\n",
    "duplicado_un = \"un\"\n",
    "duplicado_es = \"es\"\n",
    "duplicado_binario = \"binario\"\n",
    "\n",
    "for index, word in enumerate(ejer_3):\n",
    "    if word.lower() == duplicado_un:\n",
    "         print(\"se encontro la palabra\", duplicado_un ,\"en la posicion:\", index)\n",
    "\n",
    "for index, word in enumerate(ejer_3):\n",
    "    if word.lower() == duplicado_es:\n",
    "         print(\"se encontro la palabra\", duplicado_es ,\"en la posicion:\", index)\n",
    "\n",
    "for index, word in enumerate(ejer_3):\n",
    "    if word.lower() == duplicado_binario:\n",
    "         print(\"se encontro la palabra\", duplicado_binario ,\"en la posicion:\", index)"
   ]
  },
  {
   "cell_type": "markdown",
   "metadata": {
    "id": "3WrBd5QaRWxI"
   },
   "source": [
    "## Ejercicio 3\n",
    "1. ¿Cuántas veces se repite el 3 en la siguiente tupla?\n",
    "2. Crea una tupla nueva con los elementos desde la posicion 5 a la 10.\n",
    "3. ¿Cuántos elementos tiene la tupla `ejer_3`?\n",
    "> ```ejer_9 = (3, 20, 3, 47, 19, 3, 29, 45, 67, 78, 90, 3, 3, 5, 2, 4, 7, 9, 4, 2, 4, 3, 3, 4, 6, 7)```"
   ]
  },
  {
   "cell_type": "code",
   "execution_count": 109,
   "metadata": {
    "id": "bkv_R5LYRWxI"
   },
   "outputs": [
    {
     "name": "stdout",
     "output_type": "stream",
     "text": [
      "El 3 se repite 7\n",
      "la tupla tiene 16 elementos\n"
     ]
    }
   ],
   "source": [
    "ejer_9 = (3, 20, 3, 47, 19, 3, 29, 45, 67, 78, 90, 3, 3, 5, 2, 4, 7, 9, 4, 2, 4, 3, 3, 4, 6, 7)\n",
    "\n",
    "# 1. Cuantas veces se repite el 3\n",
    "print(\"El 3 se repite\", ejer_9.count(3))\n",
    "# 2. Crea una nueva tupla con los elementos desde la posicion 5 a la 10\n",
    "ejer_9_new = ejer_9[5:11]\n",
    "# 3. cuantos elementos tiene la tupla ejer_3\n",
    "ejer_3_tuple = tuple(ejer_3)\n",
    "print(\"la tupla tiene\",len(ejer_3_tuple), \"elementos\")"
   ]
  },
  {
   "cell_type": "markdown",
   "metadata": {
    "id": "6g8Y54AeRWxI"
   },
   "source": [
    "## Ejercicio 4\n",
    "Comprueba si el numero 60 esta en la tupla del ejercicio 3"
   ]
  },
  {
   "cell_type": "code",
   "execution_count": 112,
   "metadata": {
    "id": "F8VTEZonRWxI"
   },
   "outputs": [],
   "source": [
    "for i in ejer_9:\n",
    "    if i == 60:\n",
    "        print(\"existe\")"
   ]
  },
  {
   "cell_type": "markdown",
   "metadata": {
    "id": "y0fg-ZA6RWxI"
   },
   "source": [
    "## Ejercicio 5\n",
    "1. Convierte la tupla del ejercicio 3 en una lista\n",
    "2. Convierte la tupla del ejercicio 3 en un set\n",
    "3. Convierte la tupla del ejercicio 3 en un diccionario. Usa también los indices"
   ]
  },
  {
   "cell_type": "code",
   "execution_count": 117,
   "metadata": {
    "id": "_O5hXr01RWxI"
   },
   "outputs": [
    {
     "name": "stdout",
     "output_type": "stream",
     "text": [
      "[3, 20, 3, 47, 19, 3, 29, 45, 67, 78, 90, 3, 3, 5, 2, 4, 7, 9, 4, 2, 4, 3, 3, 4, 6, 7]\n",
      "{2, 3, 67, 5, 4, 7, 6, 9, 45, 78, 47, 19, 20, 90, 29}\n",
      "{0: 3, 1: 20, 2: 3, 3: 47, 4: 19, 5: 3, 6: 29, 7: 45, 8: 67, 9: 78, 10: 90, 11: 3, 12: 3, 13: 5, 14: 2, 15: 4, 16: 7, 17: 9, 18: 4, 19: 2, 20: 4, 21: 3, 22: 3, 23: 4, 24: 6, 25: 7}\n"
     ]
    }
   ],
   "source": [
    "# 1. Convierte la tupla del ejercicio 3 en una lista\n",
    "ejer_9_list = list(ejer_9)\n",
    "print(ejer_9_list)\n",
    "# 2. Convierte la tupla del ejercicio 3 en un set\n",
    "ejer_9_set = set(ejer_9)\n",
    "print(ejer_9_set)\n",
    "# 2. Convierte la tupla del ejercicio 3 en un diccionario\n",
    "ejer_9_dict = dict(enumerate(ejer_9))\n",
    "print(ejer_9_dict)"
   ]
  },
  {
   "cell_type": "markdown",
   "metadata": {
    "id": "eOdWWbxvRWxJ"
   },
   "source": [
    "## Ejercicio 6\n",
    "Multiplica todos los valores del diccionario\n",
    "> ```ejer_6 = {1: 11, 2: 22, 3: 33, 4: 44, 5: 55}```"
   ]
  },
  {
   "cell_type": "code",
   "execution_count": 150,
   "metadata": {
    "id": "KcuByovKRWxJ"
   },
   "outputs": [
    {
     "name": "stdout",
     "output_type": "stream",
     "text": [
      "19326120\n",
      "19326120\n"
     ]
    }
   ],
   "source": [
    "ejer_6 = {1: 11, 2: 22, 3: 33, 4: 44, 5: 55}\n",
    "total = 1\n",
    "\n",
    "# solucion un poco fea\n",
    "mult_values = ejer_6[1] * ejer_6[2] * ejer_6[3] * ejer_6[4] * ejer_6[5] \n",
    "print(mult_values)\n",
    "\n",
    "#solucion iterable\n",
    "for i in ejer_6:\n",
    "    total *= ejer_6[i]\n",
    "       \n",
    "print(total)"
   ]
  },
  {
   "cell_type": "markdown",
   "metadata": {
    "id": "W7TUSaKRRWxJ"
   },
   "source": [
    "## Ejercicio 7\n",
    "\n",
    "1. Crea un diccionario que describa un libro, con los siguientes campos o claves: \"titulo\",\"autor\",\"idioma original\",\"año de publicación\".\n",
    "2. Crea un a lista, llamada librería.\n",
    "3. Añade cuatro libros a tu elección a la librería."
   ]
  },
  {
   "cell_type": "code",
   "execution_count": 56,
   "metadata": {
    "id": "d-IMRvxRRWxJ",
    "vscode": {
     "languageId": "plaintext"
    }
   },
   "outputs": [
    {
     "name": "stdout",
     "output_type": "stream",
     "text": [
      "[{'titulo': 'El camino de los reyes', 'autor': 'Brandon Sanderson', 'idioma original': 'Ingles', 'año de publicacion': '2010'}, {'titulo': 'El sobrino del mago', 'autor': 'C.S. Lewis', 'idioma original': 'Ingles', 'año de publicacion': '1955'}, {'titulo': 'Luna de pluton', 'autor': 'Angel David Revilla', 'idioma original': 'español', 'año de publicacion': '2015'}, {'titulo': 'El origen', 'autor': 'Stephen King', 'idioma original': 'Ingles', 'año de publicacion': '1986'}]\n"
     ]
    }
   ],
   "source": [
    "# 1. Crea un diccionario que describa un libro\n",
    "libro_dict_1 = {\n",
    "    \"titulo\":\"El camino de los reyes\",\n",
    "    \"autor\":\"Brandon Sanderson\",\n",
    "    \"idioma original\":\"Ingles\",\n",
    "    \"año de publicacion\":\"2010\"\n",
    "}\n",
    "\n",
    "libro_dict_2 = {\n",
    "    \"titulo\":\"El sobrino del mago\",\n",
    "    \"autor\":\"C.S. Lewis\",\n",
    "    \"idioma original\":\"Ingles\",\n",
    "    \"año de publicacion\":\"1955\"\n",
    "}\n",
    "\n",
    "libro_dict_3 = {\n",
    "    \"titulo\":\"Luna de pluton\",\n",
    "    \"autor\":\"Angel David Revilla\",\n",
    "    \"idioma original\":\"español\",\n",
    "    \"año de publicacion\":\"2015\"\n",
    "}\n",
    "\n",
    "libro_dict_4 = {\n",
    "    \"titulo\":\"El origen\",\n",
    "    \"autor\":\"Stephen King\",\n",
    "    \"idioma original\":\"Ingles\",\n",
    "    \"año de publicacion\":\"1986\"\n",
    "}\n",
    "\n",
    "# 2. Crea una lista llamada libreria\n",
    "libreria = []\n",
    "# 3. Añade cuatro libros a tu eleccion a la libreria\n",
    "libreria.append(libro_dict_1)\n",
    "libreria.append(libro_dict_2)\n",
    "libreria.append(libro_dict_3)\n",
    "libreria.append(libro_dict_4)\n",
    "\n",
    "print(libreria)"
   ]
  },
  {
   "cell_type": "markdown",
   "metadata": {
    "id": "glMoedjYRWxJ"
   },
   "source": [
    "## Ejercicio 8\n",
    "Modifica los valores del idioma de todos los libros del ejercicio anterior para que sea \"esperanto\"\n"
   ]
  },
  {
   "cell_type": "code",
   "execution_count": 57,
   "metadata": {
    "id": "veNdC-uwRWxJ"
   },
   "outputs": [
    {
     "name": "stdout",
     "output_type": "stream",
     "text": [
      "[{'titulo': 'El camino de los reyes', 'autor': 'Brandon Sanderson', 'idioma original': 'esperanto', 'año de publicacion': '2010'}, {'titulo': 'El sobrino del mago', 'autor': 'C.S. Lewis', 'idioma original': 'esperanto', 'año de publicacion': '1955'}, {'titulo': 'Luna de pluton', 'autor': 'Angel David Revilla', 'idioma original': 'esperanto', 'año de publicacion': '2015'}, {'titulo': 'El origen', 'autor': 'Stephen King', 'idioma original': 'esperanto', 'año de publicacion': '1986'}]\n"
     ]
    }
   ],
   "source": [
    "for i in range(len(libreria)):\n",
    "    libreria[i][\"idioma original\"] = \"esperanto\"\n",
    "\n",
    "print(libreria)"
   ]
  },
  {
   "cell_type": "markdown",
   "metadata": {
    "id": "DRCJG04KRWxJ"
   },
   "source": [
    "## Ejercicio 9\n",
    "1. Escribe un programa que dada una variable titulo busque los libros que hay en la librería con ese título. Si no se encuentra debe devolver el mensaje `Ese no lo tengo, ¿mola?`\n",
    "2. Pruena que el programa con uno de tus libros y con otro que no contenga tu librería."
   ]
  },
  {
   "cell_type": "code",
   "execution_count": 58,
   "metadata": {
    "id": "eWHdJi9BRWxJ"
   },
   "outputs": [
    {
     "name": "stdout",
     "output_type": "stream",
     "text": [
      "Escribe un libro que pueda estar en la libreria\n",
      "Ese lo tengo!\n"
     ]
    }
   ],
   "source": [
    "# Creo una funcion que compara el nombre de los libros con el que se ha escrito\n",
    "def buscar_libro(libro):\n",
    "    for i in range(len(libreria)):\n",
    "        if libro.lower() == libreria[i][\"titulo\"].lower():\n",
    "            print(\"Ese lo tengo!\")\n",
    "            break\n",
    "        else:\n",
    "            print(\"Ese no lo tengo, mola?\")\n",
    "            break \n",
    "\n",
    "#Pido el libro por consola\n",
    "print(\"Escribe un libro que pueda estar en la libreria\")\n",
    "libro_usuario = \"el camino de los reyes\"\n",
    "buscar_libro(libro_usuario)"
   ]
  },
  {
   "cell_type": "code",
   "execution_count": 59,
   "metadata": {},
   "outputs": [
    {
     "name": "stdout",
     "output_type": "stream",
     "text": [
      "Ese no lo tengo, mola?\n"
     ]
    }
   ],
   "source": [
    "libro_usuario_2 = \"un libro nunca escrtio\"\n",
    "buscar_libro(libro_usuario_2)"
   ]
  },
  {
   "cell_type": "markdown",
   "metadata": {
    "id": "17YOpYuFRWxJ"
   },
   "source": [
    "## Ejercicio 10\n",
    "Convierte el programa del ejercicio 2 en una función al que se le pase el valor a buscar como un argumento posicional"
   ]
  },
  {
   "cell_type": "code",
   "execution_count": 60,
   "metadata": {
    "id": "xbj0LgvnRWxJ"
   },
   "outputs": [
    {
     "name": "stdout",
     "output_type": "stream",
     "text": [
      "se encontro la palabra un en la posicion: 0\n",
      "se encontro la palabra un en la posicion: 7\n",
      "se encontro la palabra es en la posicion: 3\n",
      "se encontro la palabra es en la posicion: 13\n",
      "se encontro la palabra binario en la posicion: 2\n",
      "se encontro la palabra binario en la posicion: 15\n"
     ]
    }
   ],
   "source": [
    "def encontrar_duplicados(duplicado, lista):\n",
    "    for index, word in enumerate(lista):\n",
    "        if word.lower() == duplicado:\n",
    "            print(\"se encontro la palabra\", duplicado,\"en la posicion:\", index)\n",
    "    \n",
    "duplicados_un = encontrar_duplicados(duplicado = \"un\", lista = ejer_3)\n",
    "duplicados_es = encontrar_duplicados(duplicado =\"es\", lista = ejer_3)\n",
    "duplicados_binario = encontrar_duplicados(duplicado =\"binario\", lista = ejer_3)"
   ]
  },
  {
   "cell_type": "markdown",
   "metadata": {
    "id": "xZ-sWJxPRWxJ"
   },
   "source": [
    "## Ejercicio 11\n",
    "Convierte el programa del ejercicio 9 en una función al que se le pasen como argumentos la librería, posicional, y el título, argumento keyword con valor \"ninguno\", por defecto."
   ]
  },
  {
   "cell_type": "code",
   "execution_count": 296,
   "metadata": {
    "id": "4-JrsMdNRWxK"
   },
   "outputs": [],
   "source": [
    "# Creo una funcion que compara el nombre de los libros con el que se ha escrito\n",
    "def buscar_libro(librerias, titulo = \"ninguno\"):\n",
    "    if titulo == \"ninguno\":\n",
    "        print(\"Estos son los libros que tenemos disponibles:\")\n",
    "        for i in range(len(librerias)):\n",
    "            print(librerias[i][\"titulo\"])\n",
    "    elif titulo != \"ninguno\":\n",
    "        for i in range(len(librerias)):\n",
    "            if titulo.lower() == libreria[i][\"titulo\"].lower():\n",
    "                print(\"Ese lo tengo!\")\n",
    "                break\n",
    "            else:\n",
    "                print(\"Ese no lo tengo, mola?\")\n",
    "                break "
   ]
  },
  {
   "cell_type": "code",
   "execution_count": 297,
   "metadata": {},
   "outputs": [
    {
     "name": "stdout",
     "output_type": "stream",
     "text": [
      "Estos son los libros que tenemos disponibles:\n",
      "El camino de los reyes\n",
      "El sobrino del mago\n",
      "Luna de pluton\n",
      "El origen\n"
     ]
    }
   ],
   "source": [
    "buscar_libro(libreria)"
   ]
  },
  {
   "cell_type": "code",
   "execution_count": 74,
   "metadata": {},
   "outputs": [
    {
     "name": "stdout",
     "output_type": "stream",
     "text": [
      "Ese lo tengo!\n"
     ]
    }
   ],
   "source": [
    "buscar_libro(libreria, \"el camino de los reyes\")"
   ]
  },
  {
   "cell_type": "markdown",
   "metadata": {
    "id": "FtJir95QRWxK"
   },
   "source": [
    "## Ejercicio 12\n",
    "Solicitar al usuario que ingrese su dirección email. Imprimir un mensaje indicando si la dirección es válida o no, valiéndose de una función para decidirlo. Una dirección se considerará válida si contiene el símbolo \"@\"."
   ]
  },
  {
   "cell_type": "code",
   "execution_count": 301,
   "metadata": {
    "id": "sk852IZ8RWxK"
   },
   "outputs": [
    {
     "name": "stdout",
     "output_type": "stream",
     "text": [
      "escribe tu email\n"
     ]
    },
    {
     "name": "stdin",
     "output_type": "stream",
     "text": [
      " hola@gmail.com\n"
     ]
    },
    {
     "name": "stdout",
     "output_type": "stream",
     "text": [
      "correo valido\n"
     ]
    }
   ],
   "source": [
    "def validar_email(email):\n",
    "    if email.count(\"@\") == 0:\n",
    "        print(\"Correo no valido\")\n",
    "    else:\n",
    "        print(\"Correo valido\")\n",
    "\n",
    "print(\"Escribe tu email\")\n",
    "\n",
    "email = input()\n",
    "validar_email(email)"
   ]
  },
  {
   "cell_type": "markdown",
   "metadata": {
    "id": "Kw1MWBwBRWxK"
   },
   "source": [
    "## Ejercicio 13\n",
    "Escribe una función que compruebe si un DNI es válido, devolviendo `True` en caso afirmativo.  \n",
    "En primer lugar, el DNI debe tener entre 7 y 8 dígitos numéricos.  \n",
    "Para saber si la letra del DNI es correcta puedes utilizar el siguiente fragmento de código:\n",
    ">```Python\n",
    ">DNI= 55555555\n",
    ">palabra='TRWAGMYFPDXBNJZSQVHLCKE'\n",
    ">print('La letra del DNI es: ', palabra[DNI%23])\n",
    ">````\n"
   ]
  },
  {
   "cell_type": "code",
   "execution_count": 302,
   "metadata": {},
   "outputs": [
    {
     "name": "stdout",
     "output_type": "stream",
     "text": [
      "La letra del DNI es:  Z\n"
     ]
    }
   ],
   "source": [
    "DNI= 12345678\n",
    "palabra='TRWAGMYFPDXBNJZSQVHLCKE'\n",
    "print('La letra del DNI es: ', palabra[DNI%23])"
   ]
  },
  {
   "cell_type": "code",
   "execution_count": 313,
   "metadata": {
    "id": "F5Z9rSHqRWxK"
   },
   "outputs": [],
   "source": [
    "def validar_dni(dni):\n",
    "    dni_valido = False \n",
    "    palabra='TRWAGMYFPDXBNJZSQVHLCKE'\n",
    "    dni = [*dni] # El DNI pasa de string a una lista\n",
    "    letra = dni.pop(-1) #Removemos la letra del DNI y lo guardamos en otra variable   \n",
    "    if len(dni) >= 7 and len(dni) < 9: #Si la longitud de los digitos numericos es correcta, pasa\n",
    "        print(\"Tiene\", len(dni), \"digitos. Numero de digitos numericos validados.\")    \n",
    "        dni = int(\"\".join(dni))        \n",
    "        if letra == palabra[dni%23]: # Si la letra del DNI es correcta, pasa y el DNI es valido\n",
    "            print(\"La letra del dni es correcta\")\n",
    "            dni_valido = True\n",
    "        else:\n",
    "            print(\"La letra no es correcta\")     \n",
    "        dni = str(dni) + letra\n",
    "        print(dni)\n",
    "    else:\n",
    "        print(\"Numero de digitos numericos no validos. Deben ser entre 7 y 8 digitos\")\n",
    "    return dni_valido"
   ]
  },
  {
   "cell_type": "code",
   "execution_count": 314,
   "metadata": {},
   "outputs": [
    {
     "name": "stdout",
     "output_type": "stream",
     "text": [
      "Tiene 8 digitos. Numero de digitos numericos validados.\n",
      "La letra del dni es correcta\n",
      "12345678Z\n"
     ]
    },
    {
     "data": {
      "text/plain": [
       "True"
      ]
     },
     "execution_count": 314,
     "metadata": {},
     "output_type": "execute_result"
    }
   ],
   "source": [
    "validar_dni(\"12345678Z\")"
   ]
  },
  {
   "cell_type": "code",
   "execution_count": 315,
   "metadata": {},
   "outputs": [
    {
     "name": "stdout",
     "output_type": "stream",
     "text": [
      "Tiene 8 digitos. Numero de digitos numericos validados.\n",
      "La letra no es correcta\n",
      "12345678A\n"
     ]
    },
    {
     "data": {
      "text/plain": [
       "False"
      ]
     },
     "execution_count": 315,
     "metadata": {},
     "output_type": "execute_result"
    }
   ],
   "source": [
    "validar_dni(\"12345678A\")"
   ]
  },
  {
   "cell_type": "code",
   "execution_count": 316,
   "metadata": {},
   "outputs": [
    {
     "name": "stdout",
     "output_type": "stream",
     "text": [
      "Numero de digitos numericos no validos. Deben ser entre 7 y 8 digitos\n"
     ]
    },
    {
     "data": {
      "text/plain": [
       "False"
      ]
     },
     "execution_count": 316,
     "metadata": {},
     "output_type": "execute_result"
    }
   ],
   "source": [
    "validar_dni(\"123456A\")"
   ]
  },
  {
   "cell_type": "code",
   "execution_count": null,
   "metadata": {},
   "outputs": [],
   "source": []
  }
 ],
 "metadata": {
  "colab": {
   "provenance": []
  },
  "kernelspec": {
   "display_name": "Python 3 (ipykernel)",
   "language": "python",
   "name": "python3"
  },
  "language_info": {
   "codemirror_mode": {
    "name": "ipython",
    "version": 3
   },
   "file_extension": ".py",
   "mimetype": "text/x-python",
   "name": "python",
   "nbconvert_exporter": "python",
   "pygments_lexer": "ipython3",
   "version": "3.12.5"
  }
 },
 "nbformat": 4,
 "nbformat_minor": 4
}
