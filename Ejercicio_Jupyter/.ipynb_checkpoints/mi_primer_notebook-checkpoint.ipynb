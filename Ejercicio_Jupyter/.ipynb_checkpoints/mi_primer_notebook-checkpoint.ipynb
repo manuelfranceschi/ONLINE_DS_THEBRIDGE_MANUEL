{
 "cells": [
  {
   "cell_type": "code",
   "execution_count": 1,
   "id": "13c72768-69a9-4109-8f0f-5059cad7d8b6",
   "metadata": {},
   "outputs": [
    {
     "name": "stdout",
     "output_type": "stream",
     "text": [
      "hola mundo\n"
     ]
    }
   ],
   "source": [
    "print(\"hola mundo\")\n"
   ]
  },
  {
   "cell_type": "markdown",
   "id": "4df39069-484b-4db3-9287-b3548e29bbc0",
   "metadata": {},
   "source": [
    "Hola mundo"
   ]
  },
  {
   "cell_type": "code",
   "execution_count": null,
   "id": "80c0672c-731b-4d2d-b0ec-0f00c8408eba",
   "metadata": {},
   "outputs": [],
   "source": []
  }
 ],
 "metadata": {
  "kernelspec": {
   "display_name": "Python 3 (ipykernel)",
   "language": "python",
   "name": "python3"
  },
  "language_info": {
   "codemirror_mode": {
    "name": "ipython",
    "version": 3
   },
   "file_extension": ".py",
   "mimetype": "text/x-python",
   "name": "python",
   "nbconvert_exporter": "python",
   "pygments_lexer": "ipython3",
   "version": "3.12.5"
  }
 },
 "nbformat": 4,
 "nbformat_minor": 5
}
