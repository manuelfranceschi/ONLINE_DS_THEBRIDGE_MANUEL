{
 "cells": [
  {
   "cell_type": "markdown",
   "metadata": {
    "id": "cVKE4hEPX5l9"
   },
   "source": [
    "<img src = \"./img/TheBridge_logo_RGB_color.jpg\" width = 500><img src = \"./img/python.jpg\" width = 500>"
   ]
  },
  {
   "cell_type": "markdown",
   "metadata": {
    "id": "-5bhFryrX5l-"
   },
   "source": [
    "# Python Basics I\n",
    "\n"
   ]
  },
  {
   "cell_type": "markdown",
   "metadata": {
    "id": "O3qHxuWRX5l_"
   },
   "source": [
    "## Contenidos"
   ]
  },
  {
   "cell_type": "markdown",
   "metadata": {
    "id": "14Q473gJX5l_"
   },
   "source": [
    "* [Conversión de tipos](#Conversión-de-tipos)\n",
    "* [Input](#Input)\n",
    "* [None](#None)\n",
    "* [Sintaxis y best practices](#Sintaxis-y-best-practices)\n"
   ]
  },
  {
   "cell_type": "markdown",
   "metadata": {
    "id": "SnoBN2lfX5l_"
   },
   "source": [
    "## Conversión de tipos\n",
    "[al indice](#Contenidos)\n",
    "Como en otros lenguajes, en Python también tenemos la posibilidad de realizar conversiones entre los tipos de datos. Hasta ahora hemos visto pocos, pero cuando descubramos más tipos de datos y objetos, verás que son muy comunes estas transformaciones.\n",
    "\n",
    "Un caso muy habitual es leer un archivo datos numéricos, y que Python interprete los números como caracteres. No es un error, pero posteriormente, cuando hagamos operaciones con nuestros números, tendremos errores, ya que en realidad son cadenas de texto. Si forzamos el cambio a numerico, nos evitaremos futuros problemas.\n",
    "\n",
    "**Mucho cuidado en los cambios de tipos**. Tenemos que estar seguros de lo que hacemos ya que podemos perder información, o lo más probable, puede dar error, al no ser compatible el cambio.\n",
    "\n",
    "Veamos como cambiar los tipos"
   ]
  },
  {
   "cell_type": "code",
   "execution_count": 3,
   "metadata": {
    "colab": {
     "base_uri": "https://localhost:8080/"
    },
    "executionInfo": {
     "elapsed": 26,
     "status": "ok",
     "timestamp": 1715266315512,
     "user": {
      "displayName": "Miguel Ángel Nievas Fuertes",
      "userId": "11397502732317349410"
     },
     "user_tz": -120
    },
    "id": "vdCDePnqX5mA",
    "outputId": "c83cb4eb-adcd-4419-ab25-a7fcb6aa186e"
   },
   "outputs": [
    {
     "name": "stdout",
     "output_type": "stream",
     "text": [
      "<class 'float'>\n",
      "24\n",
      "<class 'int'>\n"
     ]
    }
   ],
   "source": [
    "num_real = 24.69\n",
    "print(type(num_real))\n",
    "\n",
    "num_entero = int(num_real)\n",
    "print(num_entero)\n",
    "print(type(num_entero))"
   ]
  },
  {
   "cell_type": "markdown",
   "metadata": {
    "id": "QdWCjIbjX5mA"
   },
   "source": [
    "Perdemos unos decimales, normalmente nada grave, aunque depende de la aplicación.\n",
    "\n",
    "**NOTA**: si lo que queremos es redondear, podemos usar la función `round()`"
   ]
  },
  {
   "cell_type": "code",
   "execution_count": 4,
   "metadata": {
    "id": "wVlusQvYX5mA"
   },
   "outputs": [
    {
     "name": "stdout",
     "output_type": "stream",
     "text": [
      "24.69\n"
     ]
    }
   ],
   "source": [
    "# Esta funcion tiene dos argumentos: el número y la cantidad de decimales que queremos conservar.\n",
    "# Veremos funciones más adelante.\n",
    "\n",
    "num_real = 24.686\n",
    "num_redondeado = round(num_real, 2)\n",
    "print(num_redondeado)\n"
   ]
  },
  {
   "cell_type": "code",
   "execution_count": 6,
   "metadata": {},
   "outputs": [
    {
     "name": "stdout",
     "output_type": "stream",
     "text": [
      "25.0 <class 'float'>\n"
     ]
    }
   ],
   "source": [
    "num_redondeado = 24.69\n",
    "num_convertido = round(num_redondeado, 0)\n",
    "print(num_convertido, type(num_convertido))"
   ]
  },
  {
   "cell_type": "code",
   "execution_count": 7,
   "metadata": {},
   "outputs": [
    {
     "name": "stdout",
     "output_type": "stream",
     "text": [
      "25\n"
     ]
    }
   ],
   "source": [
    "print(int(num_convertido))"
   ]
  },
  {
   "cell_type": "markdown",
   "metadata": {
    "id": "oMuhBbdsX5mB"
   },
   "source": [
    "Para pasar de un **numero a string**, no hay problema"
   ]
  },
  {
   "cell_type": "code",
   "execution_count": 11,
   "metadata": {
    "id": "XZ7s0Z0QX5mB"
   },
   "outputs": [
    {
     "name": "stdout",
     "output_type": "stream",
     "text": [
      "24.69 su tipo es:  <class 'str'>\n",
      "12 su tipo es:  <class 'str'>\n"
     ]
    }
   ],
   "source": [
    "num_real = 24.69\n",
    "num_entero = 12\n",
    "\n",
    "real_str = str(num_real)\n",
    "entero_str = str(num_entero)\n",
    "\n",
    "print(real_str, \"su tipo es: \", type(real_str))\n",
    "print(entero_str, \"su tipo es: \", type(real_str))"
   ]
  },
  {
   "cell_type": "code",
   "execution_count": 13,
   "metadata": {},
   "outputs": [
    {
     "name": "stdout",
     "output_type": "stream",
     "text": [
      "36.69\n",
      "24.6912\n"
     ]
    }
   ],
   "source": [
    "print(num_real + num_entero) # suma de int y float, suma los valores\n",
    "print(real_str + entero_str) # suma de strings, se concatenan"
   ]
  },
  {
   "cell_type": "markdown",
   "metadata": {
    "id": "PE5mSpnTX5mB"
   },
   "source": [
    "De **String a un número** tampoco suele haber problema. Hay que tener mucho cuidado con los puntos de los decimales. **Puntos, NO comas**"
   ]
  },
  {
   "cell_type": "code",
   "execution_count": 18,
   "metadata": {
    "id": "f4U-o3DJX5mB"
   },
   "outputs": [
    {
     "name": "stdout",
     "output_type": "stream",
     "text": [
      "98 <class 'str'>\n",
      "98 <class 'int'>\n"
     ]
    },
    {
     "ename": "ValueError",
     "evalue": "could not convert string to float: '98,33'",
     "output_type": "error",
     "traceback": [
      "\u001b[1;31m---------------------------------------------------------------------------\u001b[0m",
      "\u001b[1;31mValueError\u001b[0m                                Traceback (most recent call last)",
      "Cell \u001b[1;32mIn[18], line 7\u001b[0m\n\u001b[0;32m      4\u001b[0m \u001b[38;5;28mprint\u001b[39m(mi_entero, \u001b[38;5;28mtype\u001b[39m(mi_entero))\n\u001b[0;32m      6\u001b[0m mi_string_real \u001b[38;5;241m=\u001b[39m \u001b[38;5;124m\"\u001b[39m\u001b[38;5;124m98,33\u001b[39m\u001b[38;5;124m\"\u001b[39m\n\u001b[1;32m----> 7\u001b[0m mi_real \u001b[38;5;241m=\u001b[39m \u001b[38;5;28;43mfloat\u001b[39;49m\u001b[43m(\u001b[49m\u001b[43mmi_string_real\u001b[49m\u001b[43m)\u001b[49m\n",
      "\u001b[1;31mValueError\u001b[0m: could not convert string to float: '98,33'"
     ]
    }
   ],
   "source": [
    "mi_string = \"98\"\n",
    "mi_entero = int(mi_string)\n",
    "print(mi_string, type(mi_string))\n",
    "print(mi_entero, type(mi_entero))\n",
    "\n",
    "mi_string_real = \"98,33\"\n",
    "mi_real = float(mi_string_real)"
   ]
  },
  {
   "cell_type": "code",
   "execution_count": 19,
   "metadata": {},
   "outputs": [
    {
     "name": "stdout",
     "output_type": "stream",
     "text": [
      "98.64 <class 'float'>\n"
     ]
    }
   ],
   "source": [
    "mi_string_real = \"98.64\"\n",
    "mi_real = float(mi_string_real)\n",
    "print(mi_real, type(mi_real))"
   ]
  },
  {
   "cell_type": "markdown",
   "metadata": {
    "id": "eHOw_lqsX5mB"
   },
   "source": [
    "Pasar de **numero a boleano y viceversa**, tambien es bastante sencillo. Simplemente ten en cuenta que los 0s son `False`, y el resto de numeros equivalen a un `True`"
   ]
  },
  {
   "cell_type": "code",
   "execution_count": 22,
   "metadata": {
    "id": "PmAIVXwOX5mC"
   },
   "outputs": [
    {
     "name": "stdout",
     "output_type": "stream",
     "text": [
      "True <class 'bool'>\n"
     ]
    }
   ],
   "source": [
    "booleano = bool(123)\n",
    "print(booleano, type(booleano))"
   ]
  },
  {
   "cell_type": "code",
   "execution_count": 23,
   "metadata": {},
   "outputs": [
    {
     "name": "stdout",
     "output_type": "stream",
     "text": [
      "False <class 'bool'>\n"
     ]
    }
   ],
   "source": [
    "booleano = bool(0)\n",
    "print(booleano, type(booleano))"
   ]
  },
  {
   "cell_type": "markdown",
   "metadata": {
    "id": "m4kAmYygX5mC"
   },
   "source": [
    "En el caso de transformar **String a booleano**, los strings vacíos serán `False`, mientras que los que tengan cualquier cadena, equivaldrán a `True`.\n",
    "\n",
    "Sin embargo, si la operación es la inversa, el booleano `True` pasará a valer una cadena de texto como `True`, y para `False` lo mismo."
   ]
  },
  {
   "cell_type": "code",
   "execution_count": 25,
   "metadata": {
    "id": "Pihq3tMIX5mC"
   },
   "outputs": [
    {
     "name": "stdout",
     "output_type": "stream",
     "text": [
      "False <class 'bool'>\n",
      "True <class 'bool'>\n"
     ]
    }
   ],
   "source": [
    "booleano = bool(\"\")\n",
    "booleano_2 = bool(\"Esto es otro tipo de booleano al hacer la conversion\")\n",
    "print(booleano, type(booleano))\n",
    "print(booleano_2, type(booleano_2))"
   ]
  },
  {
   "cell_type": "code",
   "execution_count": 28,
   "metadata": {},
   "outputs": [
    {
     "name": "stdout",
     "output_type": "stream",
     "text": [
      "False True\n"
     ]
    }
   ],
   "source": [
    "bool_str = str(booleano)\n",
    "bool_2_str = str(booleano_2)\n",
    "print(bool_str, bool_2_str)"
   ]
  },
  {
   "cell_type": "markdown",
   "metadata": {
    "id": "asTtemeNX5mC"
   },
   "source": [
    "<table align=\"left\">\n",
    " <tr><td width=\"80\"><img src=\"img/error.png\" style=\"width:auto;height:auto\"></td>\n",
    "     <td style=\"text-align:left\">\n",
    "         <h3>ERRORES en conversion de tipos</h3>\n",
    "         \n",
    " </td></tr>\n",
    "</table>"
   ]
  },
  {
   "cell_type": "markdown",
   "metadata": {
    "id": "2gk4mUFlX5mC"
   },
   "source": [
    "Ojo si intentamos pasar a entero un string con pinta de real. En cuanto lleva el punto, ya tiene que ser un numero real. A no ser que lo pasemos a real y posteriormente a entero (`int()`), o usando el `round()` como vimos anteriormente"
   ]
  },
  {
   "cell_type": "code",
   "execution_count": 29,
   "metadata": {
    "id": "0jH9hybLX5mD"
   },
   "outputs": [
    {
     "ename": "ValueError",
     "evalue": "could not convert string to float: '68,34'",
     "output_type": "error",
     "traceback": [
      "\u001b[1;31m---------------------------------------------------------------------------\u001b[0m",
      "\u001b[1;31mValueError\u001b[0m                                Traceback (most recent call last)",
      "Cell \u001b[1;32mIn[29], line 2\u001b[0m\n\u001b[0;32m      1\u001b[0m real_str \u001b[38;5;241m=\u001b[39m \u001b[38;5;124m'\u001b[39m\u001b[38;5;124m68,34\u001b[39m\u001b[38;5;124m'\u001b[39m\n\u001b[1;32m----> 2\u001b[0m real \u001b[38;5;241m=\u001b[39m \u001b[38;5;28;43mfloat\u001b[39;49m\u001b[43m(\u001b[49m\u001b[43mreal_str\u001b[49m\u001b[43m)\u001b[49m\n",
      "\u001b[1;31mValueError\u001b[0m: could not convert string to float: '68,34'"
     ]
    }
   ],
   "source": [
    "real_str = '68,34'\n",
    "real = float(real_str)"
   ]
  },
  {
   "cell_type": "markdown",
   "metadata": {
    "id": "4IjH5-bjX5mD"
   },
   "source": [
    "Si leemos datos con decimales y tenemos comas en vez de puntos, habrá errores."
   ]
  },
  {
   "cell_type": "code",
   "execution_count": 31,
   "metadata": {
    "id": "YYLZk9r_X5mD"
   },
   "outputs": [
    {
     "data": {
      "text/plain": [
       "'68.34'"
      ]
     },
     "execution_count": 31,
     "metadata": {},
     "output_type": "execute_result"
    }
   ],
   "source": [
    "real_str.replace(',','.')"
   ]
  },
  {
   "cell_type": "markdown",
   "metadata": {
    "id": "WXshhJl7X5mD"
   },
   "source": [
    "Para solventar esto utilizaremos funciones que sustituyan unos caracteres por otros"
   ]
  },
  {
   "cell_type": "code",
   "execution_count": 34,
   "metadata": {
    "id": "b87mtgazX5mD"
   },
   "outputs": [
    {
     "name": "stdout",
     "output_type": "stream",
     "text": [
      "68.34 <class 'str'>\n"
     ]
    }
   ],
   "source": [
    "nuevo_str = real_str.replace(',','.')\n",
    "print(nuevo_str, type(nuevo_str))"
   ]
  },
  {
   "cell_type": "code",
   "execution_count": 36,
   "metadata": {},
   "outputs": [
    {
     "name": "stdout",
     "output_type": "stream",
     "text": [
      "68.34 <class 'float'>\n"
     ]
    }
   ],
   "source": [
    "real = float(nuevo_str)\n",
    "print(real, type(real))"
   ]
  },
  {
   "cell_type": "markdown",
   "metadata": {
    "id": "WiYe_qlLX5mD"
   },
   "source": [
    "Es fundamental operar con los mismos tipos de datos. Mira lo que ocurre cuando sumamos texto con un numero. Da un `TypeError`. Básicamente nos dice que no puedes concatenar un texto con un numero entero"
   ]
  },
  {
   "cell_type": "code",
   "execution_count": 37,
   "metadata": {
    "id": "uTe4PksuX5mE"
   },
   "outputs": [
    {
     "ename": "TypeError",
     "evalue": "'num_int' is an invalid keyword argument for print()",
     "output_type": "error",
     "traceback": [
      "\u001b[1;31m---------------------------------------------------------------------------\u001b[0m",
      "\u001b[1;31mTypeError\u001b[0m                                 Traceback (most recent call last)",
      "Cell \u001b[1;32mIn[37], line 4\u001b[0m\n\u001b[0;32m      1\u001b[0m num_int \u001b[38;5;241m=\u001b[39m \u001b[38;5;241m20\u001b[39m\n\u001b[0;32m      2\u001b[0m num_str \u001b[38;5;241m=\u001b[39m \u001b[38;5;124m'\u001b[39m\u001b[38;5;124m20\u001b[39m\u001b[38;5;124m'\u001b[39m\n\u001b[1;32m----> 4\u001b[0m \u001b[38;5;28;43mprint\u001b[39;49m\u001b[43m(\u001b[49m\u001b[43mnum_int\u001b[49m\u001b[43m \u001b[49m\u001b[38;5;241;43m=\u001b[39;49m\u001b[43m \u001b[49m\u001b[43mnum_str\u001b[49m\u001b[43m)\u001b[49m\n",
      "\u001b[1;31mTypeError\u001b[0m: 'num_int' is an invalid keyword argument for print()"
     ]
    }
   ],
   "source": [
    "num_int = 20\n",
    "num_str = '20'\n",
    "\n",
    "print(num_int = num_str)"
   ]
  },
  {
   "cell_type": "markdown",
   "metadata": {
    "id": "F65wPCntX5mE"
   },
   "source": [
    "## Input\n",
    "[al indice](#Contenidos)\n",
    "Esta sentencia se usa en Python para recoger un valor que escriba el usuario del programa. Los programas suelen funcionar de esa manera, reciben un input, realizan operaciones, y acaban sacando un output para el usuario.\n",
    "\n",
    "Por ejemplo, en la siguiente celda recojo un input, que luego podremos usar en celdas posteriores.\n",
    "\n",
    "**CUIDADO**. Si corres una celda con un `input()` el programa se queda esperando a que el usuario meta un valor. Si en el momento en el que está esperando, vuelves a correr la misma celda, se te puede quedar pillado, depende del ordendaor/versión de Jupyter. Si eso ocurre, pincha en la celda y dale despues al botón de stop de arriba, o sino a Kernel -> Restart Kernel..."
   ]
  },
  {
   "cell_type": "code",
   "execution_count": 39,
   "metadata": {
    "id": "V6zMtMfUX5mE"
   },
   "outputs": [
    {
     "name": "stdin",
     "output_type": "stream",
     "text": [
      "escribeme argo mi arma 98\n"
     ]
    }
   ],
   "source": [
    "primer_input = input(\"escribeme argo mi arma\")"
   ]
  },
  {
   "cell_type": "code",
   "execution_count": 41,
   "metadata": {
    "id": "S8p2YPurX5mE"
   },
   "outputs": [
    {
     "name": "stdout",
     "output_type": "stream",
     "text": [
      "98 <class 'str'>\n"
     ]
    }
   ],
   "source": [
    "print(primer_input, type(primer_input))"
   ]
  },
  {
   "cell_type": "markdown",
   "metadata": {
    "id": "B3jVo8_pX5mE"
   },
   "source": [
    "Puedes poner ints, floats, strings, lo que quieras recoger en texto plano.\n",
    "\n",
    "Mira que fácil es hacer un chatbot un poco tonto, mediante el que hacemos preguntas al usuario, y almacenamos sus respuestas."
   ]
  },
  {
   "cell_type": "code",
   "execution_count": 43,
   "metadata": {
    "id": "vtmgQHoIX5mE"
   },
   "outputs": [
    {
     "name": "stdin",
     "output_type": "stream",
     "text": [
      "Como te llamas alma candida de dio? manolo\n"
     ]
    },
    {
     "name": "stdout",
     "output_type": "stream",
     "text": [
      "encantado de conocerte\n"
     ]
    },
    {
     "name": "stdin",
     "output_type": "stream",
     "text": [
      "y que te parece ejste video? buenardo\n"
     ]
    },
    {
     "name": "stdout",
     "output_type": "stream",
     "text": [
      "coincido\n"
     ]
    }
   ],
   "source": [
    "nombre = input(\"Como te llamas alma candida de dio?\")\n",
    "print(\"encantado de conocerte\")\n",
    "preferencias = input(\"y que te parece ejste video?\")\n",
    "print(\"coincido\")"
   ]
  },
  {
   "cell_type": "markdown",
   "metadata": {
    "id": "MJqvsBd9X5mE"
   },
   "source": [
    "## None\n",
    "[al indice](#Contenidos)\n",
    "Palabra reservada en Python para designar al valor nulo. `None` no es 0, tampoco es un string vacio, ni `False`, simplemente es un tipo de datos más para representar el conjunto vacío."
   ]
  },
  {
   "cell_type": "code",
   "execution_count": 45,
   "metadata": {
    "id": "5_2zfAAXX5mF"
   },
   "outputs": [
    {
     "name": "stdout",
     "output_type": "stream",
     "text": [
      "None\n"
     ]
    }
   ],
   "source": [
    "print(None)"
   ]
  },
  {
   "cell_type": "code",
   "execution_count": 48,
   "metadata": {},
   "outputs": [
    {
     "name": "stdout",
     "output_type": "stream",
     "text": [
      "<class 'NoneType'>\n"
     ]
    }
   ],
   "source": [
    "print(type(None))"
   ]
  },
  {
   "cell_type": "markdown",
   "metadata": {},
   "source": [
    "Se utiliza cuando quiero no quieres asignarle a una variable ningun valor "
   ]
  },
  {
   "cell_type": "code",
   "execution_count": 50,
   "metadata": {},
   "outputs": [
    {
     "data": {
      "text/plain": [
       "False"
      ]
     },
     "execution_count": 50,
     "metadata": {},
     "output_type": "execute_result"
    }
   ],
   "source": [
    "\"\" == None"
   ]
  },
  {
   "cell_type": "code",
   "execution_count": 52,
   "metadata": {},
   "outputs": [
    {
     "data": {
      "text/plain": [
       "False"
      ]
     },
     "execution_count": 52,
     "metadata": {},
     "output_type": "execute_result"
    }
   ],
   "source": [
    "0 == None"
   ]
  },
  {
   "cell_type": "markdown",
   "metadata": {
    "id": "Q566LqOQX5mF"
   },
   "source": [
    "## Sintaxis y best practices\n",
    "[al indice](#Contenidos)\n",
    "A la hora de escribir en Python, existen ciertas normas que hay que tener en cuenta:\n",
    "* Todo lo que abras, lo tienes que cerrar: paréntesis, llaves, corchetes...\n",
    "* Los decimales se ponen con puntos `.`\n",
    "* Best practices\n",
    "    * **Caracteres**: NO se recomienda usar Ñs, acentos o caracteres raros (ª,º,@,ç...) en el codigo. Ponerlo únicamente en los comentarios.\n",
    "    * **Espacios**: NO usar espacios en los nombres de las variables ni de las funciones. Se recomienda usar guión bajo para simular el espacio. O también juntar las palabras y usar mayuscula para diferenciarlas `miVariable`. Lo normal es todo minúscula y guiones bajos\n",
    "    * Ahora bien, sí se recomienda usar espacios entre cada comando, para facilitar la lectura, aunque esto ya es más cuestión de gustos. `mi_variable = 36`.\n",
    "    * Se suelen declarar las variables en minuscula.\n",
    "    * Las constantes (variables que no van a cambiar nunca) en mayuscula. `MI_PAIS = \"España\"`\n",
    "    * **Cada sentencia en una linea**. Se puede usar el `;` para declarar varias variables, pero no es lo habitual\n",
    "    * **Comentarios**: TODOS los que se pueda. Nunca sabes cuándo otra persona va a coger tu espectacular código, o si tu *yo* del futuro se acordará de por qué hiciste ese bucle while en vez de un for.\n",
    "    * **Case sensitive**: sensible a mayusculas y minusculas. CUIDADO con esto cuando declaremos variables o usemos Strings\n",
    "    * **Sintaxis de línea**: para una correcta lectura del codigo lo mejor es aplicar sintaxis de línea en la medida de lo posible"
   ]
  },
  {
   "cell_type": "code",
   "execution_count": null,
   "metadata": {
    "id": "o4LxvppdX5mF"
   },
   "outputs": [],
   "source": [
    "# A esto nos referimos con sintaxis de línea\n",
    "lista_compra = ['Manzanas',\n",
    "               'Galletas',\n",
    "               'Pollo',\n",
    "               'Cereales']"
   ]
  },
  {
   "cell_type": "markdown",
   "metadata": {
    "id": "Lg0DGQliX5mF"
   },
   "source": [
    "### The Zen of Python\n",
    "Cualquier consejo que te haya podido dar hasta ahora se queda en nada comparado con los 20 principios que definió *Tim Peters* en 1999. Uno de los mayores colaboradores en la creación de este lenguaje"
   ]
  },
  {
   "cell_type": "code",
   "execution_count": 74,
   "metadata": {
    "id": "KgtxkitSX5mG"
   },
   "outputs": [
    {
     "data": {
      "text/plain": [
       "25"
      ]
     },
     "execution_count": 74,
     "metadata": {},
     "output_type": "execute_result"
    }
   ],
   "source": [
    "import this #zen de python\n",
    "this.i"
   ]
  },
  {
   "cell_type": "code",
   "execution_count": null,
   "metadata": {},
   "outputs": [],
   "source": []
  }
 ],
 "metadata": {
  "colab": {
   "provenance": []
  },
  "kernelspec": {
   "display_name": "Python 3 (ipykernel)",
   "language": "python",
   "name": "python3"
  },
  "language_info": {
   "codemirror_mode": {
    "name": "ipython",
    "version": 3
   },
   "file_extension": ".py",
   "mimetype": "text/x-python",
   "name": "python",
   "nbconvert_exporter": "python",
   "pygments_lexer": "ipython3",
   "version": "3.12.5"
  }
 },
 "nbformat": 4,
 "nbformat_minor": 4
}
